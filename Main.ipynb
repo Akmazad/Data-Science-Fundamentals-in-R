{
  "nbformat": 4,
  "nbformat_minor": 0,
  "metadata": {
    "colab": {
      "provenance": [],
      "authorship_tag": "ABX9TyOEeS+TolBIFn+cjLC5QaK9",
      "include_colab_link": true
    },
    "kernelspec": {
      "name": "ir",
      "display_name": "R"
    },
    "language_info": {
      "name": "R"
    }
  },
  "cells": [
    {
      "cell_type": "markdown",
      "metadata": {
        "id": "view-in-github",
        "colab_type": "text"
      },
      "source": [
        "<a href=\"https://colab.research.google.com/github/Akmazad/Data-Science-Fundamentals-in-R/blob/main/Main.ipynb\" target=\"_parent\"><img src=\"https://colab.research.google.com/assets/colab-badge.svg\" alt=\"Open In Colab\"/></a>"
      ]
    },
    {
      "cell_type": "markdown",
      "source": [
        "# Data Science Fundamentals in R #\n",
        "**Contents**\n",
        "\n",
        "\n",
        "\n",
        "\n",
        "1.   R programming basics: DataFrame, Packages, Functions, Loops, logics, and more ( [Colab link](https://colab.research.google.com/drive/1V6HtZcuHUVTX47oIDagHMLt_EAGbHHfw?usp=drive_link))\n",
        "2.   Core Training modules:\n",
        " - Module 1: Data Import & Export using `data.table` package ( [Colab link](https://colab.research.google.com/drive/1uQJaJlUahEcG4nv4Cqf_IAt5PbH-odFf?usp=drive_link))\n",
        " - Module 2: Data Wrangling: Cleaning, Slicing, and Manipulation using `tidyr` and `dplyr` packages ( [Colab link](https://colab.research.google.com/drive/1dJ5tMy1DSxa3-ARJpnSc1JwuZOiKvpUP?usp=drive_link))\n",
        " - Module 3: Exploratory data analysis (EDA) ( [Colab link](https://colab.research.google.com/drive/1oowsKT7G0oAfRqOzFEgeDL8I9wbAdjPJ?usp=drive_link))\n",
        " - Module 4: Data Visualization using `ggplot2` ( [Colab link](https://colab.research.google.com/drive/1Xq8wawQHkoSaWR20gGEltDgbBHm-uWRF?usp=drive_link))\n",
        "3. Hands on: Mini project\n",
        "4. References\n",
        "\n",
        "\n",
        "---\n",
        "\n",
        "\n",
        "\n",
        "\n"
      ],
      "metadata": {
        "id": "Ygq_bJIVjNt0"
      }
    },
    {
      "cell_type": "markdown",
      "source": [
        "## Reference ##\n",
        "\n",
        "\n",
        "1. [Importing data in the Tidyverse](jhudatascience.org/tidyversecourse/get-data.html#get-data)\n",
        "2. [NBA Salary and Statistics 2016-17 (sqlite version)](https://www.kaggle.com/datasets/rikdifos/nba-salary-and-statistics-201617)\n",
        "3. [Iris Dataset (JSON Version)](https://https://www.kaggle.com/datasets/rtatman/iris-dataset-json-version)\n",
        "4. [Basketball CSV file](https://raw.githubusercontent.com/Statology/Miscellaneous/main/basketball_data.csv)\n",
        "5. [Plant Catalog XML data](https://www.w3schools.com/xml/plant_catalog.xml)"
      ],
      "metadata": {
        "id": "nEWVs5Vvr0Hd"
      }
    },
    {
      "cell_type": "code",
      "execution_count": null,
      "metadata": {
        "id": "X9Ns1Sj8jpob"
      },
      "outputs": [],
      "source": []
    }
  ]
}