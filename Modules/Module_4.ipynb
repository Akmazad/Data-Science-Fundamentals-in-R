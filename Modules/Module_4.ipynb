{
  "nbformat": 4,
  "nbformat_minor": 0,
  "metadata": {
    "colab": {
      "provenance": [],
      "authorship_tag": "ABX9TyMZu8uDkTMGXBCNrtWCu7hO",
      "include_colab_link": true
    },
    "kernelspec": {
      "name": "ir",
      "display_name": "R"
    },
    "language_info": {
      "name": "R"
    }
  },
  "cells": [
    {
      "cell_type": "markdown",
      "metadata": {
        "id": "view-in-github",
        "colab_type": "text"
      },
      "source": [
        "<a href=\"https://colab.research.google.com/github/Akmazad/Data-Science-Fundamentals-in-R/blob/main/Modules/Module_4.ipynb\" target=\"_parent\"><img src=\"https://colab.research.google.com/assets/colab-badge.svg\" alt=\"Open In Colab\"/></a>"
      ]
    },
    {
      "cell_type": "markdown",
      "source": [
        "\n",
        "\n",
        "# Module 4: Visualization - with `ggplot2`#\n",
        "\n",
        "\n",
        "---\n",
        "\n",
        "\n",
        "**Contents:**\n",
        "\n",
        "*   barplot\n",
        "*   histogram\n",
        "*   correlation plot\n",
        "*   boxplot\n",
        "*   violin plot\n",
        "*   scatter\n",
        "*   lineplot\n",
        "*   heatmap\n",
        "\n",
        "\n",
        "---\n",
        "\n",
        "\n",
        "\n",
        "\n",
        "\n",
        "\n",
        "\n"
      ],
      "metadata": {
        "id": "v2DswWWXpXtF"
      }
    },
    {
      "cell_type": "code",
      "source": [
        "library(ggplot2)\n",
        "library(dplyr)\n",
        "library(plotly)\n",
        "library(GGally)"
      ],
      "metadata": {
        "id": "V3hY0jizRa4I"
      },
      "execution_count": null,
      "outputs": []
    },
    {
      "cell_type": "markdown",
      "source": [
        "\n",
        "\n",
        "---\n",
        "\n",
        "### Barplot ###\n",
        "\n",
        "\n",
        "---\n",
        "\n"
      ],
      "metadata": {
        "id": "fUTHhATpUBD1"
      }
    },
    {
      "cell_type": "code",
      "source": [
        "# ref: https://r-graph-gallery.com/218-basic-barplots-with-ggplot2.html\n",
        "# Load ggplot2\n",
        "library(ggplot2)\n",
        "\n",
        "# Create data\n",
        "data <- data.frame(\n",
        "  name=c(\"A\",\"B\",\"C\",\"D\",\"E\") ,  # 'name' will be the x-axis label\n",
        "  value=c(3,12,5,18,45)          # 'value' will be the y-axis label\n",
        ")\n",
        "\n",
        "# Barplot\n",
        "data %>% ggplot(aes(x=name, y=value)) +\n",
        "  geom_bar(stat = \"identity\") # it tells, y-axis to be just the value from the value column"
      ],
      "metadata": {
        "id": "XP7H9oXmDysJ"
      },
      "execution_count": null,
      "outputs": []
    },
    {
      "cell_type": "markdown",
      "source": [
        "\n",
        "\n",
        "---\n",
        "\n",
        "### Histogram ###\n",
        "\n",
        "\n",
        "---\n",
        "\n"
      ],
      "metadata": {
        "id": "Ea53ckHfnmOG"
      }
    },
    {
      "cell_type": "code",
      "source": [
        "# library\n",
        "library(ggplot2)\n",
        "\n",
        "# dataset:\n",
        "data <- read.table(\"https://raw.githubusercontent.com/holtzy/data_to_viz/master/Example_dataset/1_OneNum.csv\", header=TRUE)\n",
        "\n",
        "# plot\n",
        "p <- data %>%\n",
        "  filter( price<300 ) %>%\n",
        "  ggplot( aes(x=price)) +\n",
        "    geom_histogram( binwidth=3, fill=\"#69b3a2\", color=\"#e9ecef\", alpha=0.9) +\n",
        "    ggtitle(\"Bin size = 3\") +\n",
        "    theme(\n",
        "      plot.title = element_text(size=15)\n",
        "    )\n",
        "p"
      ],
      "metadata": {
        "id": "pxvsSlptnmOH"
      },
      "execution_count": null,
      "outputs": []
    },
    {
      "cell_type": "markdown",
      "source": [
        "\n",
        "\n",
        "---\n",
        "### Boxplot - (also used for Outlier Detection) ###\n",
        "\n",
        "\n",
        "---\n",
        "\n",
        "\n"
      ],
      "metadata": {
        "id": "E3YgQ5ePVB7N"
      }
    },
    {
      "cell_type": "code",
      "execution_count": null,
      "metadata": {
        "id": "vpn37zjNpT6I"
      },
      "outputs": [],
      "source": [
        "library(ggplot2)\n",
        "\n",
        "# Change outlier, color, shape and size\n",
        "p <- ggplot(ToothGrowth, aes(group=dose, y=len)) +\n",
        "            geom_boxplot(outlier.colour=\"red\", outlier.shape=8, outlier.size=4) +\n",
        "              theme(axis.text.y = element_blank())\n",
        "p\n",
        "\n",
        "# saving the plot as a png file\n",
        "#ggsave(\"temp.png\", plot = p)"
      ]
    },
    {
      "cell_type": "markdown",
      "source": [
        "\n",
        "\n",
        "---\n",
        "### Violin plot ###\n",
        "\n",
        "\n",
        "---\n",
        "\n",
        "\n"
      ],
      "metadata": {
        "id": "c82RGBjpe73y"
      }
    },
    {
      "cell_type": "code",
      "execution_count": null,
      "metadata": {
        "id": "VivE5ZMbe74C"
      },
      "outputs": [],
      "source": [
        "# Library\n",
        "library(ggplot2)\n",
        "\n",
        "# create a dataset\n",
        "data <- data.frame(\n",
        "  name=c( rep(\"A\",500), rep(\"B\",500), rep(\"B\",500), rep(\"C\",20), rep('D', 100)  ),\n",
        "  value=c( rnorm(500, 10, 5), rnorm(500, 13, 1), rnorm(500, 18, 1), rnorm(20, 25, 4), rnorm(100, 12, 1) )\n",
        ")\n",
        "\n",
        "# Most basic violin chart\n",
        "p <- ggplot(data, aes(x=name, y=value, fill=name)) + # fill=name allow to automatically dedicate a color for each group\n",
        "  geom_violin()\n",
        "\n",
        "p"
      ]
    },
    {
      "cell_type": "markdown",
      "source": [
        "\n",
        "\n",
        "---\n",
        "### Density plot ###\n",
        "\n",
        "\n",
        "---\n",
        "\n",
        "\n"
      ],
      "metadata": {
        "id": "c5yHnuvXBnEJ"
      }
    },
    {
      "cell_type": "code",
      "execution_count": null,
      "metadata": {
        "colab": {
          "base_uri": "https://localhost:8080/",
          "height": 706
        },
        "id": "upVo9i0cBnEQ",
        "outputId": "9835dfa1-d6a0-4480-aa61-88119e107f1c"
      },
      "outputs": [
        {
          "output_type": "display_data",
          "data": {
            "text/html": [
              "<table class=\"dataframe\">\n",
              "<caption>A data.frame: 6 × 2</caption>\n",
              "<thead>\n",
              "\t<tr><th></th><th scope=col>sex</th><th scope=col>weight</th></tr>\n",
              "\t<tr><th></th><th scope=col>&lt;fct&gt;</th><th scope=col>&lt;dbl&gt;</th></tr>\n",
              "</thead>\n",
              "<tbody>\n",
              "\t<tr><th scope=row>1</th><td>F</td><td>49</td></tr>\n",
              "\t<tr><th scope=row>2</th><td>F</td><td>56</td></tr>\n",
              "\t<tr><th scope=row>3</th><td>F</td><td>60</td></tr>\n",
              "\t<tr><th scope=row>4</th><td>F</td><td>43</td></tr>\n",
              "\t<tr><th scope=row>5</th><td>F</td><td>57</td></tr>\n",
              "\t<tr><th scope=row>6</th><td>F</td><td>58</td></tr>\n",
              "</tbody>\n",
              "</table>\n"
            ],
            "text/markdown": "\nA data.frame: 6 × 2\n\n| <!--/--> | sex &lt;fct&gt; | weight &lt;dbl&gt; |\n|---|---|---|\n| 1 | F | 49 |\n| 2 | F | 56 |\n| 3 | F | 60 |\n| 4 | F | 43 |\n| 5 | F | 57 |\n| 6 | F | 58 |\n\n",
            "text/latex": "A data.frame: 6 × 2\n\\begin{tabular}{r|ll}\n  & sex & weight\\\\\n  & <fct> & <dbl>\\\\\n\\hline\n\t1 & F & 49\\\\\n\t2 & F & 56\\\\\n\t3 & F & 60\\\\\n\t4 & F & 43\\\\\n\t5 & F & 57\\\\\n\t6 & F & 58\\\\\n\\end{tabular}\n",
            "text/plain": [
              "  sex weight\n",
              "1 F   49    \n",
              "2 F   56    \n",
              "3 F   60    \n",
              "4 F   43    \n",
              "5 F   57    \n",
              "6 F   58    "
            ]
          },
          "metadata": {}
        },
        {
          "output_type": "display_data",
          "data": {
            "text/plain": [
              "plot without title"
            ],
            "image/png": "[encoded data removed]"
          },
          "metadata": {
            "image/png": {
              "width": 420,
              "height": 420
            }
          }
        }
      ],
      "source": [
        "set.seed(1234)\n",
        "df <- data.frame(\n",
        "  sex=factor(rep(c(\"F\", \"M\"), each=200)),\n",
        "  weight=round(c(rnorm(200, mean=55, sd=5),\n",
        "                 rnorm(200, mean=65, sd=5)))\n",
        "  )\n",
        "head(df)\n",
        "\n",
        "# Use semi-transparent fill\n",
        "p<-ggplot(df, aes(x=weight, fill=sex)) +\n",
        "  geom_density(alpha=0.4)\n",
        "p"
      ]
    },
    {
      "cell_type": "markdown",
      "source": [
        "\n",
        "\n",
        "---\n",
        "### Ridgeline plot ###\n",
        "\n",
        "\n",
        "---\n",
        "\n",
        "\n"
      ],
      "metadata": {
        "id": "EflzZ3OJnN9b"
      }
    },
    {
      "cell_type": "code",
      "execution_count": null,
      "metadata": {
        "id": "SHM9awGCnN9n"
      },
      "outputs": [],
      "source": [
        "# library\n",
        "library(ggridges)\n",
        "library(ggplot2)\n",
        "\n",
        "# Diamonds dataset is provided by R natively\n",
        "head(diamonds)\n",
        "\n",
        "# basic example\n",
        "ggplot(diamonds, aes(x = price, y = cut, fill = cut)) +\n",
        "  geom_density_ridges() +\n",
        "  theme_ridges() +\n",
        "  theme(legend.position = \"none\")"
      ]
    },
    {
      "cell_type": "markdown",
      "source": [
        "\n",
        "\n",
        "---\n",
        "### Scatter plot ###\n",
        "\n",
        "\n",
        "---\n",
        "\n",
        "\n"
      ],
      "metadata": {
        "id": "awFpaDThwZrJ"
      }
    },
    {
      "cell_type": "code",
      "execution_count": null,
      "metadata": {
        "id": "sOerCmFbwZrS"
      },
      "outputs": [],
      "source": [
        "# ref: http://www.sthda.com/english/wiki/ggplot2-scatter-plots-quick-start-guide-r-software-and-data-visualization\n",
        "\n",
        "library(ggplot2)\n",
        "# Basic scatter plot\n",
        "ggplot(mtcars, aes(x=wt, y=mpg)) + geom_point()\n",
        "# Change the point size, and shape\n",
        "ggplot(mtcars, aes(x=wt, y=mpg)) +\n",
        "  geom_point(size=2, shape=23)\n",
        "# Add the regression line\n",
        "ggplot(mtcars, aes(x=wt, y=mpg)) +\n",
        "  geom_point()+\n",
        "  geom_smooth(method=lm)"
      ]
    },
    {
      "cell_type": "markdown",
      "source": [
        "\n",
        "\n",
        "---\n",
        "### line plot ###\n",
        "\n",
        "\n",
        "---\n",
        "\n",
        "\n"
      ],
      "metadata": {
        "id": "gM34IpAcwaMr"
      }
    },
    {
      "cell_type": "code",
      "execution_count": null,
      "metadata": {
        "id": "Y_Q9JWUcwaMr"
      },
      "outputs": [],
      "source": [
        "# http://www.sthda.com/english/wiki/ggplot2-line-plot-quick-start-guide-r-software-and-data-visualization\n",
        "library(ggplot2)\n",
        "# Basic line plot with points\n",
        "ggplot(data=mtcars, aes(x=mtcars$cyl, y=mtcars$mpg, group=1)) +\n",
        "  geom_line()+\n",
        "  geom_point()\n",
        "# Change the line type\n",
        "ggplot(data=mtcars, aes(x=mtcars$cyl, y=mtcars$mpg, group=1)) +\n",
        "  geom_line(linetype = \"dashed\")+\n",
        "  geom_point()\n",
        "# Change the color\n",
        "ggplot(data=mtcars, aes(x=mtcars$cyl, y=mtcars$mpg, group=1)) +\n",
        "  geom_line(color=\"red\")+\n",
        "  geom_point()"
      ]
    },
    {
      "cell_type": "markdown",
      "source": [
        "\n",
        "\n",
        "---\n",
        "### Correlation plot ###\n",
        "\n",
        "\n",
        "---\n",
        "\n",
        "\n"
      ],
      "metadata": {
        "id": "Opb5PStJIKlB"
      }
    },
    {
      "cell_type": "code",
      "execution_count": null,
      "metadata": {
        "id": "A_vK7DH0IKlJ"
      },
      "outputs": [],
      "source": [
        "# Quick display of two cabapilities of GGally, to assess the distribution and correlation of variables\n",
        "library(GGally)\n",
        "\n",
        "# Create data\n",
        "data <- data.frame(\n",
        "  v1 = 1:100 + rnorm(100,sd=20),\n",
        "  v2 = 1:100 + rnorm(100,sd=27),\n",
        "  v3 = rep(1, 100) + rnorm(100, sd = 1))\n",
        "# add two more variables\n",
        "data$v4 = data$v1 ** 2\n",
        "data$v5 = -(data$v1 ** 2)\n",
        "\n",
        "# Check correlation between variables\n",
        "cor(data)\n",
        "\n",
        "# Nice visualization of correlations\n",
        "ggcorr(data, method = c(\"everything\", \"pearson\"))"
      ]
    },
    {
      "cell_type": "markdown",
      "source": [
        "\n",
        "\n",
        "---\n",
        "### Correlogram (Scatterplot matrix) plot ###\n",
        "---\n",
        "\n",
        "\n"
      ],
      "metadata": {
        "id": "q5rKDRQ7IWOZ"
      }
    },
    {
      "cell_type": "code",
      "execution_count": null,
      "metadata": {
        "id": "K0VYj_IpIWOa"
      },
      "outputs": [],
      "source": [
        "# Quick display of two cabapilities of GGally, to assess the distribution and correlation of variables\n",
        "library(GGally)\n",
        "\n",
        "# Create data\n",
        "data <- data.frame( var1 = 1:100 + rnorm(100,sd=20), v2 = 1:100 + rnorm(100,sd=27), v3 = rep(1, 100) + rnorm(100, sd = 1))\n",
        "data$v4 = data$var1 ** 2\n",
        "data$v5 = -(data$var1 ** 2)\n",
        "\n",
        "# Check correlations (as scatterplots), distribution and print corrleation coefficient\n",
        "ggpairs(data, title=\"correlogram with ggpairs()\")"
      ]
    },
    {
      "cell_type": "markdown",
      "source": [
        "\n",
        "\n",
        "---\n",
        "### Heatmap plot ###\n",
        "---\n",
        "\n",
        "\n"
      ],
      "metadata": {
        "id": "hiqkYyQOAxfH"
      }
    },
    {
      "cell_type": "code",
      "execution_count": null,
      "metadata": {
        "id": "5tRRFoWZAxfQ"
      },
      "outputs": [],
      "source": [
        "# The mtcars dataset:\n",
        "data <- as.matrix(mtcars)\n",
        "\n",
        "# Default Heatmap\n",
        "heatmap(data)\n",
        "\n",
        "# scaled Heatmap\n",
        "heatmap(data, scale = \"column\")"
      ]
    }
  ]
}