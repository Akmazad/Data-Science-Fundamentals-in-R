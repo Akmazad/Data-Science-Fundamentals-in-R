{
  "nbformat": 4,
  "nbformat_minor": 0,
  "metadata": {
    "colab": {
      "provenance": [],
      "authorship_tag": "ABX9TyNaec4UAPN9Pqd1Ki3Lpn0/",
      "include_colab_link": true
    },
    "kernelspec": {
      "name": "ir",
      "display_name": "R"
    },
    "language_info": {
      "name": "R"
    }
  },
  "cells": [
    {
      "cell_type": "markdown",
      "metadata": {
        "id": "view-in-github",
        "colab_type": "text"
      },
      "source": [
        "<a href=\"https://colab.research.google.com/github/Akmazad/Data-Science-Fundamentals-in-R/blob/main/Modules/Module_1_Data_Import_%26_Export.ipynb\" target=\"_parent\"><img src=\"https://colab.research.google.com/assets/colab-badge.svg\" alt=\"Open In Colab\"/></a>"
      ]
    },
    {
      "cell_type": "markdown",
      "source": [
        "# Module 1: Data Import & Export#\n",
        "\n",
        "\n",
        "---\n",
        "\n",
        "\n",
        "**Contents**\n",
        "*   Reading/Writing Structured Data\n",
        "*   Reading Semi-Structured Data\n",
        "*   Reading from Databases\n",
        "---\n",
        "\n",
        "\n",
        "\n",
        "\n"
      ],
      "metadata": {
        "id": "1sMqSi8PFx4P"
      }
    },
    {
      "cell_type": "markdown",
      "source": [
        "### Module 1: Data Import & Export ###\n",
        "- Data are stored in files, e.g.,\n",
        " *   local file\n",
        " *   remote\n",
        " *   streamlined\n",
        "\n",
        "- Data formats can be:\n",
        " *  structured (e.g., Tabular),\n",
        " *  semi-structured (tree-fashioned)\n",
        " *  unstructured.\n",
        "\n",
        "---\n",
        "\n"
      ],
      "metadata": {
        "id": "Udpdav-Oldq-"
      }
    },
    {
      "cell_type": "markdown",
      "source": [
        "### Reading/Writing Structured Data ###\n",
        "- Structured data can be imported using `read.csv` (for *.csv files),  `read_excel` (for *.xlsx files), or `fread` functions, typically invoked through R packages (`base`, `readxl` and `data.table` packages, respectively).\n",
        "\n"
      ],
      "metadata": {
        "id": "zP2JbpVTPuVz"
      }
    },
    {
      "cell_type": "markdown",
      "source": [
        "\n",
        "\n",
        "---\n",
        "\n"
      ],
      "metadata": {
        "id": "f-j7MiZMOse8"
      }
    },
    {
      "cell_type": "code",
      "source": [
        "# Read Excel files\n",
        "library(dplyr)\n",
        "library(readxl)\n",
        "example <- readxl_example(\"datasets.xlsx\") # `datasets.xlsx` is preloaded within the package\n",
        "df <- read_excel(example)\n",
        "df %>% head\n",
        "\n",
        "# Write excel file to disc\n",
        "library(writexl)\n",
        "writexl::write_xlsx(df,  \"temp_excel_file.xlsx\")"
      ],
      "metadata": {
        "id": "BEWIMp8DnA1a"
      },
      "execution_count": null,
      "outputs": []
    },
    {
      "cell_type": "code",
      "source": [
        "# Read CSVs/tsv files into R\n",
        "library(data.table) # part of tidyverse\n",
        "df = fread(\"/content/sample_data/california_housing_test.csv\") # very efficient for loading large file\n",
        "df %>% head\n",
        "# Read remote CSV/tsv into R\n",
        "remote_file_path = \"https://raw.githubusercontent.com/Statology/Miscellaneous/main/basketball_data.csv\"\n",
        "remote_df = read.csv(remote_file_path)\n",
        "\n",
        "# Write CSVs/tsv files into disk\n",
        "remote_df %>% fwrite(\"remote_df.csv\")"
      ],
      "metadata": {
        "id": "icv7RKjEPhYy"
      },
      "execution_count": null,
      "outputs": []
    },
    {
      "cell_type": "markdown",
      "source": [
        "\n",
        "\n",
        "---\n",
        "###Reading Semi-Structured Data###\n",
        "\n",
        "* E.g., JSON or XML files can be imported\n",
        "\n",
        "\n",
        "---\n",
        "\n"
      ],
      "metadata": {
        "id": "bBaD8RXlJbcz"
      }
    },
    {
      "cell_type": "code",
      "source": [
        "# Read JSON (semi-structured) into R\n",
        "library(rjson)\n",
        "JsonData <- fromJSON(file = '/content/iris.json')\n",
        "print(JsonData[1])\n",
        "\n",
        "# Read XML (semi-structured) into R\n",
        "library(xml2)\n",
        "library(XML)\n",
        "\n",
        "plant_xml <- read_xml(\"https://www.w3schools.com/xml/plant_catalog.xml\")\n",
        "plant_xml_parse <- xmlParse(plant_xml)\n",
        "plant_xml_parse"
      ],
      "metadata": {
        "id": "_z65ApvVKOk9"
      },
      "execution_count": null,
      "outputs": []
    },
    {
      "cell_type": "markdown",
      "source": [
        "---\n",
        "###Reading from Databases###\n",
        "\n",
        "\n",
        "\n",
        "* Relational database access\n",
        "\n",
        "---\n",
        "\n"
      ],
      "metadata": {
        "id": "WGOv9pcZdy7g"
      }
    },
    {
      "cell_type": "code",
      "source": [
        "# Read from Relational Databases (SQLite)\n",
        "library(RSQLite)\n",
        "\n",
        "conn = dbConnect(RSQLite::SQLite(), '/content/nba_salary.sqlite')\n",
        "dbListTables(conn)\n",
        "# 'NBA_season1718_salary''Seasons_Stats'\n",
        "\n",
        "\n",
        "db.df <- tryCatch({\n",
        "  dbGetQuery(conn, 'SELECT * FROM NBA_season1718_salary')\n",
        "  }, error = function(err) {\n",
        "    msg <- \"Database Connection Error\"\n",
        "    NA\n",
        "})\n",
        "\n",
        "db.df %>% head\n",
        "\n",
        "dbDisconnect(conn)\n"
      ],
      "metadata": {
        "id": "HlNqsXxiZtJP"
      },
      "execution_count": null,
      "outputs": []
    },
    {
      "cell_type": "markdown",
      "source": [
        "\n",
        "\n",
        "---\n",
        "Excercise: Load the dataset (excel spreadsheet) and print the dimension\n",
        "\n",
        "\n",
        "---\n",
        "\n",
        "\n"
      ],
      "metadata": {
        "id": "r23njbFGNjUO"
      }
    },
    {
      "cell_type": "code",
      "source": [
        "library(data.table)\n",
        "library(dplyr)\n",
        "\n",
        "df = fread(\"https://docs.google.com/spreadsheets/d/e/2PACX-1vRtySA5U09DJktfiQdTP_j50tCI3h64G6zHFxCDJvkpA8VFgRTn6G9zFGDU9Kwv4s0sianfz7YcvYTD/pub?output=csv\")\n",
        "df %>% as_tibble %>% colnames"
      ],
      "metadata": {
        "colab": {
          "base_uri": "https://localhost:8080/",
          "height": 86
        },
        "id": "v5rQPrvBNr2P",
        "outputId": "567d24f0-4f34-41f6-ea2b-5610c3936cf8"
      },
      "execution_count": null,
      "outputs": [
        {
          "output_type": "display_data",
          "data": {
            "text/html": [
              "<style>\n",
              ".list-inline {list-style: none; margin:0; padding: 0}\n",
              ".list-inline>li {display: inline-block}\n",
              ".list-inline>li:not(:last-child)::after {content: \"\\00b7\"; padding: 0 .5ex}\n",
              "</style>\n",
              "<ol class=list-inline><li>'2024 RANK'</li><li>'2023 RANK'</li><li>'Institution Name'</li><li>'Country Code'</li><li>'Country'</li><li>'SIZE'</li><li>'FOCUS'</li><li>'RES.'</li><li>'AGE'</li><li>'STATUS'</li><li>'Academic Reputation Score'</li><li>'Academic Reputation Rank'</li><li>'Employer Reputation Score'</li><li>'Employer Reputation Rank'</li><li>'Faculty Student Score'</li><li>'Faculty Student Rank'</li><li>'Citations per Faculty Score'</li><li>'Citations per Faculty Rank'</li><li>'International Faculty Score'</li><li>'International Faculty Rank'</li><li>'International Students Score'</li><li>'International Students Rank'</li><li>'International Research Network Score'</li><li>'International Research Network Rank'</li><li>'Employment Outcomes Score'</li><li>'Employment Outcomes Rank'</li><li>'Sustainability Score'</li><li>'Sustainability Rank'</li><li>'Overall SCORE'</li></ol>\n"
            ],
            "text/markdown": "1. '2024 RANK'\n2. '2023 RANK'\n3. 'Institution Name'\n4. 'Country Code'\n5. 'Country'\n6. 'SIZE'\n7. 'FOCUS'\n8. 'RES.'\n9. 'AGE'\n10. 'STATUS'\n11. 'Academic Reputation Score'\n12. 'Academic Reputation Rank'\n13. 'Employer Reputation Score'\n14. 'Employer Reputation Rank'\n15. 'Faculty Student Score'\n16. 'Faculty Student Rank'\n17. 'Citations per Faculty Score'\n18. 'Citations per Faculty Rank'\n19. 'International Faculty Score'\n20. 'International Faculty Rank'\n21. 'International Students Score'\n22. 'International Students Rank'\n23. 'International Research Network Score'\n24. 'International Research Network Rank'\n25. 'Employment Outcomes Score'\n26. 'Employment Outcomes Rank'\n27. 'Sustainability Score'\n28. 'Sustainability Rank'\n29. 'Overall SCORE'\n\n\n",
            "text/latex": "\\begin{enumerate*}\n\\item '2024 RANK'\n\\item '2023 RANK'\n\\item 'Institution Name'\n\\item 'Country Code'\n\\item 'Country'\n\\item 'SIZE'\n\\item 'FOCUS'\n\\item 'RES.'\n\\item 'AGE'\n\\item 'STATUS'\n\\item 'Academic Reputation Score'\n\\item 'Academic Reputation Rank'\n\\item 'Employer Reputation Score'\n\\item 'Employer Reputation Rank'\n\\item 'Faculty Student Score'\n\\item 'Faculty Student Rank'\n\\item 'Citations per Faculty Score'\n\\item 'Citations per Faculty Rank'\n\\item 'International Faculty Score'\n\\item 'International Faculty Rank'\n\\item 'International Students Score'\n\\item 'International Students Rank'\n\\item 'International Research Network Score'\n\\item 'International Research Network Rank'\n\\item 'Employment Outcomes Score'\n\\item 'Employment Outcomes Rank'\n\\item 'Sustainability Score'\n\\item 'Sustainability Rank'\n\\item 'Overall SCORE'\n\\end{enumerate*}\n",
            "text/plain": [
              " [1] \"2024 RANK\"                           \n",
              " [2] \"2023 RANK\"                           \n",
              " [3] \"Institution Name\"                    \n",
              " [4] \"Country Code\"                        \n",
              " [5] \"Country\"                             \n",
              " [6] \"SIZE\"                                \n",
              " [7] \"FOCUS\"                               \n",
              " [8] \"RES.\"                                \n",
              " [9] \"AGE\"                                 \n",
              "[10] \"STATUS\"                              \n",
              "[11] \"Academic Reputation Score\"           \n",
              "[12] \"Academic Reputation Rank\"            \n",
              "[13] \"Employer Reputation Score\"           \n",
              "[14] \"Employer Reputation Rank\"            \n",
              "[15] \"Faculty Student Score\"               \n",
              "[16] \"Faculty Student Rank\"                \n",
              "[17] \"Citations per Faculty Score\"         \n",
              "[18] \"Citations per Faculty Rank\"          \n",
              "[19] \"International Faculty Score\"         \n",
              "[20] \"International Faculty Rank\"          \n",
              "[21] \"International Students Score\"        \n",
              "[22] \"International Students Rank\"         \n",
              "[23] \"International Research Network Score\"\n",
              "[24] \"International Research Network Rank\" \n",
              "[25] \"Employment Outcomes Score\"           \n",
              "[26] \"Employment Outcomes Rank\"            \n",
              "[27] \"Sustainability Score\"                \n",
              "[28] \"Sustainability Rank\"                 \n",
              "[29] \"Overall SCORE\"                       "
            ]
          },
          "metadata": {}
        }
      ]
    },
    {
      "cell_type": "markdown",
      "source": [
        "**Note**:\n",
        "```tryCatch``` is a statement that helps a code segment to be abruptly break the runtime, and nicely tackle the error response."
      ],
      "metadata": {
        "id": "qmvsfRuhmaxd"
      }
    }
  ]
}