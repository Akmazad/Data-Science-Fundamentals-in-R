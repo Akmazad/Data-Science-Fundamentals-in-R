{
  "nbformat": 4,
  "nbformat_minor": 0,
  "metadata": {
    "colab": {
      "provenance": [],
      "authorship_tag": "ABX9TyMo9JTAhXgPbPTWrZZ0t3QO",
      "include_colab_link": true
    },
    "kernelspec": {
      "name": "ir",
      "display_name": "R"
    },
    "language_info": {
      "name": "R"
    }
  },
  "cells": [
    {
      "cell_type": "markdown",
      "metadata": {
        "id": "view-in-github",
        "colab_type": "text"
      },
      "source": [
        "<a href=\"https://colab.research.google.com/github/Akmazad/Data-Science-Fundamentals-in-R/blob/main/Modules/Module_2_Data_Wrangling.ipynb\" target=\"_parent\"><img src=\"https://colab.research.google.com/assets/colab-badge.svg\" alt=\"Open In Colab\"/></a>"
      ]
    },
    {
      "cell_type": "markdown",
      "source": [
        "# Data Wrangling with `tidyr`, `dplyr`, and `tibble` #\n",
        "**Contents:**\n",
        "\n",
        "\n",
        "\n",
        "---\n",
        "\n",
        "\n",
        "1.   Reshaping\n",
        "2.   Subsetting\n",
        "3.   Selecting\n",
        "4.   Grouping and Summarising\n",
        "5.   Creating new variables\n",
        "6.   Combining multiple datasets\n",
        "7.   Set operations and binding\n",
        "8.   Handling Missing values\n",
        "\n",
        "\n",
        "---\n",
        "\n",
        "\n"
      ],
      "metadata": {
        "id": "vvW-ELtWp7bC"
      }
    },
    {
      "cell_type": "markdown",
      "source": [
        "Loading the packages (`tidyverse` has them all)"
      ],
      "metadata": {
        "id": "pec4nrwSSBna"
      }
    },
    {
      "cell_type": "code",
      "source": [
        "# loading required packages\n",
        "# dplyr, tidyr and other handy packages - all are in now tidyverse\n",
        "library(tidyverse)\n",
        "\n",
        "df = tibble::as_tibble(iris)\n",
        "df %>% head"
      ],
      "metadata": {
        "id": "oS9DUTnxE296"
      },
      "execution_count": null,
      "outputs": []
    },
    {
      "cell_type": "markdown",
      "source": [
        "\n",
        "\n",
        "---\n",
        "\n",
        "\n",
        "### 1. Reshaping ###\n",
        "Change the layout of the dataset\n",
        "\n",
        "---\n",
        "\n"
      ],
      "metadata": {
        "id": "ldp9yxRSEtJG"
      }
    },
    {
      "cell_type": "code",
      "source": [
        "# make a data set wide-to-long format (into key-value pair)\n",
        "df.wide <- tibble(\n",
        "  time = as.Date(\"2009-01-01\") + 0:2,\n",
        "  X1 = rnorm(3, 0, 1),\n",
        "  X2 = rnorm(3, 0, 2),\n",
        "  X3 = rnorm(3, 0, 4),\n",
        "  X4 = rnorm(3, 0, 5)\n",
        ")\n",
        "dim(df.wide)\n",
        "df.long = tidyr::pivot_longer(df.wide,  -time, names_to = \"stock\", values_to = \"price\",)\n",
        "df.long\n",
        "dim(df.long)\n",
        "\n",
        "# make long-to-wide (`key-value pair` towards `tabular`)\n",
        "df.long %>% tidyr::pivot_wider(names_from = stock, values_from = price) # `time` column will be first\n",
        "df.long %>% tidyr::pivot_wider(names_from = time, values_from = price) # `stock` column will be first"
      ],
      "metadata": {
        "id": "B3Zx510PSawP"
      },
      "execution_count": null,
      "outputs": []
    },
    {
      "cell_type": "code",
      "source": [
        "# expand a data set based on all-possible value combinations of a set of columns\n",
        "df = tibble(\n",
        "  x1 = c(\"A\",\"B\",\"B\"),\n",
        "  x2 = c(1,1,2),\n",
        "  x3 = c(3,4,3)\n",
        ")\n",
        "df\n",
        "df %>% tidyr::expand(x1,x2)\n",
        "\n",
        "#  completely define all-possible value combination, even if NA is introduced\n",
        "df %>% tidyr::complete(x1,x2)"
      ],
      "metadata": {
        "id": "AC6uIcyekyah"
      },
      "execution_count": null,
      "outputs": []
    },
    {
      "cell_type": "code",
      "source": [
        "# Collapse cells across several columns into a single column.\n",
        "table5 %>% View() # in-built dataset\n",
        "table5 %>%\n",
        "  unite(century, year, col = \"year\", sep = \"\") %>% # in-built dataset\n",
        "    unite(country, year, col = \"Country_year\", sep=\"_\")\n",
        "\n",
        "table3 %>% View() # in-built data\n",
        "# Separate each cell in a column into several columns\n",
        "table3 %>%\n",
        "  tidyr::separate_wider_delim(rate, delim = \"/\", names = c(\"cases\", \"pop\"))\n",
        "# Separate each cell in a column into several rows.\n",
        "table3 %>%\n",
        "  tidyr::separate_longer_delim(rate, delim = \"/\")"
      ],
      "metadata": {
        "id": "iAHZ5XurvysU"
      },
      "execution_count": null,
      "outputs": []
    },
    {
      "cell_type": "code",
      "source": [
        "# arrange the dataset based on columns\n",
        "dplyr::arrange(mtcars, mpg) # in low-to-high\n",
        "dplyr::arrange(mtcars, desc(mpg)) # in high-to-low\n",
        "\n",
        "# rename column names\n",
        "df = tibble(\n",
        "  x1 = c(\"A\",\"B\",\"B\"),\n",
        "  x2 = c(1,1,2),\n",
        "  x3 = c(3,4,3)\n",
        ")\n",
        "df %>% dplyr::rename(\n",
        "  new_col1 = x1,\n",
        "  new_col2 = x2,\n",
        "  new_col3 = x3\n",
        ")"
      ],
      "metadata": {
        "id": "zjonJjm1yTmG"
      },
      "execution_count": null,
      "outputs": []
    },
    {
      "cell_type": "markdown",
      "source": [
        "\n",
        "\n",
        "---\n",
        "\n",
        "### 2. Subsetting (of rows) - using `dplyr` ###\n",
        "\n",
        "\n",
        "---\n",
        "\n"
      ],
      "metadata": {
        "id": "xG3MdGyG0yxC"
      }
    },
    {
      "cell_type": "code",
      "source": [
        "# Extract rows that meet logical criteria\n",
        "iris %>% dplyr::filter(Sepal.Length > 7)\n",
        "\n",
        "# Remove duplicate rows\n",
        "iris %>% dplyr::distinct()\n",
        "\n",
        "# Randomly select fraction of rows\n",
        "iris %>% dplyr::sample_frac(0.5, replace = TRUE)\n",
        "\n",
        "# Randomly select n rows\n",
        "iris %>% dplyr::sample_n(10, replace = TRUE)\n",
        "\n",
        "# Select rows by position\n",
        "iris %>% dplyr::slice(10:15)"
      ],
      "metadata": {
        "id": "xgNO36W41IqJ"
      },
      "execution_count": null,
      "outputs": []
    },
    {
      "cell_type": "markdown",
      "source": [
        "\n",
        "\n",
        "---\n",
        "\n",
        "### 3. Filtering (of columns) - using `dplyr` ###\n",
        "\n",
        "\n",
        "---\n",
        "\n"
      ],
      "metadata": {
        "id": "zIzeDjkm2k6X"
      }
    },
    {
      "cell_type": "code",
      "source": [
        "# Select columns by name\n",
        "iris %>% dplyr::select(Sepal.Width, Petal.Length, Species)\n",
        "\n",
        "# select all columns except a group of column\n",
        "iris %>% dplyr::select(-c(Petal.Width, Petal.Length))"
      ],
      "metadata": {
        "id": "uwbpY0392k62"
      },
      "execution_count": null,
      "outputs": []
    },
    {
      "cell_type": "markdown",
      "source": [
        "\n",
        "\n",
        "---\n",
        "\n",
        "### 4. Group-wise Summary - using `dplyr` ###\n",
        "\n",
        "\n",
        "---\n",
        "\n"
      ],
      "metadata": {
        "id": "9G8WxVd53wO6"
      }
    },
    {
      "cell_type": "code",
      "source": [
        "# First make groups of rows based on distict values in a column,\n",
        "# Next, Summarise each groups based on aggregation function\n",
        "iris %>%\n",
        "  dplyr::group_by(Species) %>%\n",
        "  dplyr::summarise_all(.funs = mean)"
      ],
      "metadata": {
        "id": "DCUK-Bcw3wO8"
      },
      "execution_count": null,
      "outputs": []
    },
    {
      "cell_type": "markdown",
      "source": [
        "\n",
        "\n",
        "---\n",
        "\n",
        "### 5. Creating new variables - using `dplyr` and `tibble` ###\n",
        "\n",
        "\n",
        "---\n",
        "\n"
      ],
      "metadata": {
        "id": "EeUAlx_yGpkr"
      }
    },
    {
      "cell_type": "code",
      "source": [
        "# Compute and append one or more new columns\n",
        "# iris %>%\n",
        "#   dplyr::mutate(sepal = Sepal.Length + Sepal.Width)\n",
        "\n",
        "# make rownames from a given column\n",
        "mtcars\n",
        "a <- mtcars %>% tibble::rownames_to_column(var = \"C\")\n",
        "a\n",
        "# make a column from the given rownames of dataset\n",
        "a %>% tibble::column_to_rownames(var = \"C\")"
      ],
      "metadata": {
        "id": "__1qpvkxGpk6"
      },
      "execution_count": null,
      "outputs": []
    },
    {
      "cell_type": "markdown",
      "source": [
        "\n",
        "\n",
        "---\n",
        "\n",
        "### 6. Combining multiple datasets - using `dplyr` ###\n",
        "\n",
        "\n",
        "---\n",
        "\n"
      ],
      "metadata": {
        "id": "MgqhMM-QHElJ"
      }
    },
    {
      "cell_type": "code",
      "source": [
        "a = tibble(\n",
        "  x1 = c(\"A\",\"B\",\"C\"),\n",
        "  x2 = c(1,2,3)\n",
        ")\n",
        "b = tibble(\n",
        "  x1 = c(\"A\",\"B\",\"D\"),\n",
        "  x3 = c(T,F,F)\n",
        ")\n",
        "a\n",
        "b\n",
        "\n",
        "# left-join: Join matching rows from b to a\n",
        "dplyr::left_join(a, b, by = \"x1\")\n",
        "\n",
        "# right-join: Join matching rows from a to b\n",
        "dplyr::right_join(a, b, by = \"x1\")\n",
        "\n",
        "# inner-join: Join data and Retain only rows in both sets\n",
        "dplyr::inner_join(a, b, by = \"x1\")\n",
        "\n",
        "# full-join: Join data and Retain all values, all rows from both datasets a and b\n",
        "dplyr::full_join(a, b, by = \"x1\")\n"
      ],
      "metadata": {
        "id": "mQI2qpIcHElt"
      },
      "execution_count": null,
      "outputs": []
    },
    {
      "cell_type": "markdown",
      "source": [
        "\n",
        "\n",
        "---\n",
        "\n",
        "### 7. Set operations and binding - using `dplyr` ###\n",
        "\n",
        "\n",
        "---\n",
        "\n"
      ],
      "metadata": {
        "id": "uBTV8JaRItb5"
      }
    },
    {
      "cell_type": "code",
      "source": [
        "y = tibble(\n",
        "  x1 = c(\"A\",\"B\",\"C\"),\n",
        "  x2 = c(1,2,3)\n",
        ")\n",
        "z = tibble(\n",
        "  x1 = c(\"B\",\"C\",\"D\"),\n",
        "  x2 = c(2,3,4)\n",
        ")\n",
        "# intersect: Rows that appear in both y and z\n",
        "dplyr::intersect(y, z)\n",
        "\n",
        "# union: Rows that appear in either or both y and z\n",
        "dplyr::union(y, z)\n",
        "\n",
        "# set difference: Rows that appear in y but not z\n",
        "dplyr::setdiff(y, z)\n",
        "\n",
        "# binding rows: Append z to y as new rows\n",
        "dplyr::bind_rows(y, z)\n",
        "\n",
        "# binding columns: Append z to y as new columns\n",
        "dplyr::bind_cols(y, z)\n"
      ],
      "metadata": {
        "id": "9sBMRbpHItcc"
      },
      "execution_count": null,
      "outputs": []
    },
    {
      "cell_type": "markdown",
      "source": [
        "\n",
        "\n",
        "---\n",
        "\n",
        "### 8. Handling missing values - using `tidyr` ###\n",
        "\n",
        "\n",
        "---\n",
        "\n"
      ],
      "metadata": {
        "id": "1RbxDYJ5Ly6q"
      }
    },
    {
      "cell_type": "code",
      "source": [
        "# drop missing values (NA)\n",
        "x = tibble(\n",
        "  x1 = c(\"A\",\"B\",\"C\",\"D\",\"E\"),\n",
        "  x2 = c(1, NA, NA, 3, NA)\n",
        ")\n",
        "x %>% tidyr::drop_na(x2) # drop the whole row\n",
        "\n",
        "# Replacing with next/previous values (default: down direction)\n",
        "x %>% tidyr::fill(x2)\n",
        "\n",
        "# Replacing all NAs with a fixed value\n",
        "x %>% tidyr::replace_na(list(x2=2))"
      ],
      "metadata": {
        "id": "r3_3bXmoLy63"
      },
      "execution_count": null,
      "outputs": []
    },
    {
      "cell_type": "markdown",
      "source": [
        "---\n",
        "**Excercise:**\n",
        "\n",
        "The QS world ranking data that you've loaded in the previous Excercise ([link](https://colab.research.google.com/drive/1uQJaJlUahEcG4nv4Cqf_IAt5PbH-odFf#scrollTo=5oQaqRU-Wh9R&line=4&uniqifier=1)), do the following:\n",
        "\n",
        "\n",
        "\n",
        "*   Filter the universities that are only in Kindom of Saudi Arabia (Hint: `Country Code` == 'SA')\n",
        "*   Next sort the universities based on their \"International Faculty Rank\" column in descending order.\n",
        "\n",
        "---\n",
        "\n"
      ],
      "metadata": {
        "id": "v4lWKMGWOCIv"
      }
    },
    {
      "cell_type": "code",
      "source": [
        "#@title Solution\n",
        "library(data.table)\n",
        "library(dplyr)\n",
        "\n",
        "df = fread(\"https://docs.google.com/spreadsheets/d/e/2PACX-1vRtySA5U09DJktfiQdTP_j50tCI3h64G6zHFxCDJvkpA8VFgRTn6G9zFGDU9Kwv4s0sianfz7YcvYTD/pub?gid=1872926621&single=true&output=csv\")\n",
        "\n",
        "df %>% dplyr::filter(`Country Code` == 'SA') %>%\n",
        "  dplyr::arrange(desc(`International Faculty Rank`))"
      ],
      "metadata": {
        "cellView": "form",
        "id": "v3KM1MYQQJs0"
      },
      "execution_count": null,
      "outputs": []
    }
  ]
}