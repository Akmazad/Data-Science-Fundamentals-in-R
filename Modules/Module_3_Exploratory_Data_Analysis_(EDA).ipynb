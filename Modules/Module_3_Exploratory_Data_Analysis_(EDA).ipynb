{
  "nbformat": 4,
  "nbformat_minor": 0,
  "metadata": {
    "colab": {
      "provenance": [],
      "authorship_tag": "ABX9TyPA4K6NPpefsvivjz4eMuv6",
      "include_colab_link": true
    },
    "kernelspec": {
      "name": "ir",
      "display_name": "R"
    },
    "language_info": {
      "name": "R"
    }
  },
  "cells": [
    {
      "cell_type": "markdown",
      "metadata": {
        "id": "view-in-github",
        "colab_type": "text"
      },
      "source": [
        "<a href=\"https://colab.research.google.com/github/Akmazad/Data-Science-Fundamentals-in-R/blob/main/Modules/Module_3_Exploratory_Data_Analysis_(EDA).ipynb\" target=\"_parent\"><img src=\"https://colab.research.google.com/assets/colab-badge.svg\" alt=\"Open In Colab\"/></a>"
      ]
    },
    {
      "cell_type": "markdown",
      "source": [
        "# Module 3: Exploratory Data Analysis (EDA) #\n",
        "\n",
        "\n",
        "---\n",
        "\n",
        "\n",
        "**Contents:**\n",
        "*   Summarizing a dataset using descriptive statistics\n",
        "*   Measures of Central Tendancies, Spread, and Percentiles\n",
        "*   Finding missing value\n",
        "*   outlier detection\n",
        "*   Correlation\n",
        "*   Clustering\n",
        "\n",
        "---\n",
        "\n"
      ],
      "metadata": {
        "id": "-c6p6gszqXbF"
      }
    },
    {
      "cell_type": "markdown",
      "source": [
        "\n",
        "There are two approaches for performing EDA:\n",
        "\n",
        "\n",
        "1.   Through descriptive statistics (Covered in this module)\n",
        "2.   Through Visualization (Covered in Module 4)\n",
        "\n",
        "\n"
      ],
      "metadata": {
        "id": "gVkzORJI5wZG"
      }
    },
    {
      "cell_type": "markdown",
      "source": [
        "\n",
        "\n",
        "---\n",
        "### First approach: Descriptive statistics ###\n",
        "\n",
        "\n",
        "---\n",
        "\n",
        "\n"
      ],
      "metadata": {
        "id": "S4AJiXP81xVS"
      }
    },
    {
      "cell_type": "code",
      "execution_count": null,
      "metadata": {
        "id": "65nCVNpvpOHV"
      },
      "outputs": [],
      "source": [
        "# Summarization/Describe the whole dataset\n",
        "summary(mtcars)\n",
        "summary(iris)\n",
        "str(iris)\n",
        "str(list(\"first\" = 1, \"second\" = 2, \"third\" = 3)\n",
        "\n",
        "# Types for each attributes of the dataset\n",
        "sapply(iris,class)\n",
        "\n",
        "# number of rows of a data.frame or Matrix\n",
        "nrow(mtcars)\n",
        "\n",
        "# number of columns of a data.frame or Matrix\n",
        "ncol(mtcars)\n",
        "\n",
        "# dimension of a data.frame or Matrix\n",
        "dim(mtcars)\n",
        "\n",
        "# An excerpt of the full data\n",
        "head(mtcars, n = 2)\n",
        "tail(mtcars, n = 2)\n",
        "\n",
        "\n",
        "\n"
      ]
    },
    {
      "cell_type": "markdown",
      "source": [
        "\n",
        "\n",
        "---\n",
        "\n",
        "\n",
        "### Measures of Central Tendancies, Spread, and Percentiles ###\n",
        "\n",
        "\n",
        "---\n",
        "\n"
      ],
      "metadata": {
        "id": "AeiA-5WN0ySn"
      }
    },
    {
      "cell_type": "code",
      "source": [
        "# reference:\n",
        "# central tendancies\n",
        "mean(mtcars$mpg)\n",
        "median(mtcars$mpg)\n",
        "\n",
        "# Spread\n",
        "var(mtcars$mpg)\n",
        "sd(mtcars$mpg)\n",
        "IQR(mtcars$mpg)\n",
        "min(mtcars$mpg)\n",
        "max(mtcars$mpg)\n",
        "range(mtcars$mpg)\n",
        "\n",
        "# Categorical variables\n",
        "table(mtcars$cyl)\n",
        "table(mtcars$cyl)/nrow(mtcars)\n",
        "table(mtcars$cyl, mtcars$carb)\n",
        "\n",
        "# uniqueness\n",
        "unique(mtcars$cyl)\n",
        "\n",
        "# # quartiles (of a vector)\n",
        "quantile(x <- rnorm(1001)) # Extremes & Quartiles by default\n",
        "quantile(x,  probs = c(0.1, 0.5, 1, 2, 5, 10, 50, NA)/100)\n"
      ],
      "metadata": {
        "id": "A1J1HGW579qt"
      },
      "execution_count": null,
      "outputs": []
    },
    {
      "cell_type": "markdown",
      "source": [
        "\n",
        "---\n",
        "\n",
        "### Missingness ###\n",
        "\n",
        "\n",
        "---\n",
        "\n"
      ],
      "metadata": {
        "id": "Z8IT4YXe5GoK"
      }
    },
    {
      "cell_type": "code",
      "source": [
        "library(dplyr)\n",
        "library(data.table)\n",
        "df = fread(\"/content/sample_data/housing_price_train.csv\", stringsAsFactors = F) %>%\n",
        "  as_tibble\n",
        "# str(df)\n",
        "\n",
        "# total missing values in the whole data set\n",
        "df %>%\n",
        "  is.na %>%\n",
        "  sum\n",
        "\n",
        "# total missingness in a single column\n",
        "df$Alley %>% is.na %>% sum"
      ],
      "metadata": {
        "id": "ZVi7WEPt5Q7g"
      },
      "execution_count": null,
      "outputs": []
    },
    {
      "cell_type": "markdown",
      "source": [
        "\n",
        "\n",
        "---\n",
        "### Outlier detection ###\n",
        "\n",
        "\n",
        "---\n",
        "\n",
        "\n"
      ],
      "metadata": {
        "id": "AOKR9nI8C8aB"
      }
    },
    {
      "cell_type": "code",
      "source": [
        "# first see a distribution with outliers\n",
        "mean(airquality$Wind)\n",
        "median(airquality$Wind)\n",
        "\n",
        "\n",
        "Q1 <- quantile(airquality$Wind, .25)\n",
        "Q3 <- quantile(airquality$Wind, .75)\n",
        "IQR <- IQR(airquality$Wind)\n",
        "outlier_logic <- airquality$Wind > (Q1 - 1.5*IQR) & airquality$Wind < (Q3 + 1.5*IQR)\n",
        "outliers <- subset(airquality, !outlier_logic)\n",
        "outliers\n",
        "nrow(outliers)\n",
        "\n",
        "# Q: Does this algorithm has a visual manifestation?\n",
        "# Answer: Boxplot"
      ],
      "metadata": {
        "id": "Smgt5fP4DAxE"
      },
      "execution_count": null,
      "outputs": []
    },
    {
      "cell_type": "markdown",
      "source": [
        "\n",
        "\n",
        "---\n",
        "### Correlation ###\n",
        "\n",
        "Correlation measures the strength of relationship between to random variables. Three approaches exists for this:\n",
        "\n",
        "\n",
        "1.   Pearson's correlation coefficient (PCC) - parametric\n",
        "2.   Spearman's & Kendall's rank correlation - non-parametric\n",
        "\n",
        "\n",
        "---\n",
        "\n",
        "\n"
      ],
      "metadata": {
        "id": "v5R4B8TODYVz"
      }
    },
    {
      "cell_type": "code",
      "source": [
        "suppressMessages(library(dplyr))\n",
        "# Pearson's correlation coefficient (parametric)\n",
        "pcc.val = cor(mtcars$wt, mtcars$mpg, method = \"pearson\")\n",
        "# significance test\n",
        "pcc.test.res <- cor.test(mtcars$wt, mtcars$mpg, method = \"pearson\") %>%\n",
        "  suppressWarnings()\n",
        "# pcc.res\n",
        "\n",
        "# Spearman rank correlation coefficient (non-parametric)\n",
        "sp.val = cor(mtcars$wt, mtcars$mpg, method = \"spearman\")\n",
        "# Spearman rank correlation coefficient\n",
        "sp.test.res <-cor.test(mtcars$wt, mtcars$mpg,  method = \"spearman\") %>%\n",
        "  suppressWarnings()\n",
        "# sp.test.res\n",
        "\n",
        "# kendall's rank correlation coefficient (non-parametric)\n",
        "kndl.val = cor(mtcars$wt, mtcars$mpg, method = \"kendall\")\n",
        "# Kendall rank correlation test\n",
        "kndl.test.res <- cor.test(mtcars$wt, mtcars$mpg,  method=\"kendall\") %>%\n",
        "  suppressWarnings()\n",
        "# kndl.test.res\n",
        "\n",
        "list(\"pearson's cc\" = pcc.val,\n",
        "     \"spearman's cc\" = sp.val,\n",
        "     \"kendall's cc\" = kndl.val) %>% as_tibble\n",
        "list(\"p-value (pearson)\" = pcc.test.res$p.value,\n",
        "     \"p-value (spearman)\" = sp.test.res$p.value,\n",
        "     \"p-value (kendall)\" = kndl.test.res$p.value) %>% as_tibble"
      ],
      "metadata": {
        "id": "yrE_zwG7DYVz"
      },
      "execution_count": null,
      "outputs": []
    },
    {
      "cell_type": "markdown",
      "source": [
        "\n",
        "\n",
        "---\n",
        "### Clustering ###\n",
        "\n",
        "Clustering in an unsupervised approach to find grouping patterns in a given dataset.\n",
        "\n",
        "Types of Clustering in R: [Ref](https://www.geeksforgeeks.org/clustering-in-r-programming/)\n",
        "\n",
        "\n",
        "*   K-means clustering\n",
        "*   Hierarchical clustering\n",
        "*   Spectral clustering\n",
        "*   Fuzzy clustering\n",
        "*   Density-based clustering\n",
        "*   Ensemble clustering\n",
        "\n",
        "\n",
        "\n",
        "\n",
        "---\n",
        "\n",
        "\n"
      ],
      "metadata": {
        "id": "qv1OhGZHDcNL"
      }
    },
    {
      "cell_type": "code",
      "source": [
        "# ref https://www.geeksforgeeks.org/clustering-in-r-programming/\n",
        "library(\"factoextra\")\n",
        "library(\"cluster\")\n",
        "#load data\n",
        "df <- mtcars\n",
        "\n",
        "#remove rows with missing values\n",
        "df <- na.omit(df)\n",
        "\n",
        "#scale each variable to have a mean of 0 and sd of 1\n",
        "df <- scale(df)\n",
        "\n",
        "# perform K-means clustering\n",
        "km.res = kmeans(df, centers = 4, nstart = 25)\n",
        "# visualize the clusters\n",
        "km.res %>% fviz_cluster(data=df)"
      ],
      "metadata": {
        "id": "UsNA9LArDcNM"
      },
      "execution_count": null,
      "outputs": []
    },
    {
      "cell_type": "code",
      "source": [
        "install.packages(c(\n",
        "  \"factoextra\",\n",
        "  \"cluster\"\n",
        "  ))"
      ],
      "metadata": {
        "id": "FBlQzV7-b4Bv"
      },
      "execution_count": null,
      "outputs": []
    },
    {
      "cell_type": "markdown",
      "source": [
        "\n",
        "\n",
        "---\n",
        "\n",
        "Excercise: Using the past Exercise, see if there is any correlation (Hint: Pearson) between university 'International Research Network Score' and 'International Faculty Rank'.\n",
        "\n",
        "---\n",
        "\n"
      ],
      "metadata": {
        "id": "fQ16j0-_dpew"
      }
    },
    {
      "cell_type": "code",
      "source": [
        "#@title Solution\n",
        "library(data.table)\n",
        "library(dplyr)\n",
        "\n",
        "df = fread(\"https://docs.google.com/spreadsheets/d/e/2PACX-1vRtySA5U09DJktfiQdTP_j50tCI3h64G6zHFxCDJvkpA8VFgRTn6G9zFGDU9Kwv4s0sianfz7YcvYTD/pub?gid=1872926621&single=true&output=csv\")\n",
        "\n",
        "df <- df %>% dplyr::filter(`Country Code` == 'SA') %>%\n",
        "  dplyr::arrange(desc(`International Faculty Rank`))\n",
        "\n",
        "df$`International Faculty Rank` = as.numeric(df$`International Faculty Rank`)\n",
        "\n",
        "cor(df$`International Faculty Rank`, df$`International Research Network Score`, method = \"pearson\")"
      ],
      "metadata": {
        "colab": {
          "base_uri": "https://localhost:8080/",
          "height": 34
        },
        "id": "JPZLYECLe7Pf",
        "outputId": "5a5df83c-460d-4b4c-ac1c-76e831b2b424"
      },
      "execution_count": 11,
      "outputs": [
        {
          "output_type": "display_data",
          "data": {
            "text/html": [
              "-0.0996212367273821"
            ],
            "text/markdown": "-0.0996212367273821",
            "text/latex": "-0.0996212367273821",
            "text/plain": [
              "[1] -0.09962124"
            ]
          },
          "metadata": {}
        }
      ]
    },
    {
      "cell_type": "markdown",
      "source": [
        "\n",
        "\n",
        "---\n",
        "\n"
      ],
      "metadata": {
        "id": "GdWPBTCw3Qoe"
      }
    }
  ]
}