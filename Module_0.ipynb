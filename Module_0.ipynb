{
  "nbformat": 4,
  "nbformat_minor": 0,
  "metadata": {
    "colab": {
      "provenance": [],
      "authorship_tag": "ABX9TyOK3ychMF//GIkclR3hwW11",
      "include_colab_link": true
    },
    "kernelspec": {
      "name": "ir",
      "display_name": "R"
    },
    "language_info": {
      "name": "R"
    }
  },
  "cells": [
    {
      "cell_type": "markdown",
      "metadata": {
        "id": "view-in-github",
        "colab_type": "text"
      },
      "source": [
        "<a href=\"https://colab.research.google.com/github/Akmazad/Data-Science-Fundamentals-in-R/blob/main/Module_0.ipynb\" target=\"_parent\"><img src=\"https://colab.research.google.com/assets/colab-badge.svg\" alt=\"Open In Colab\"/></a>"
      ]
    },
    {
      "cell_type": "markdown",
      "source": [
        "# R programming essentials: DataFrame, Packages, Functions, Loops, logics, and more#\n",
        "**Contents:**\n",
        "\n",
        "\n",
        "1.   Tabular data: `data.frame` VS `tibble`\n",
        "2.   Pipe operator, `%>%`\n",
        "\n",
        "\n",
        "\n"
      ],
      "metadata": {
        "id": "9FS75o5wjYCY"
      }
    },
    {
      "cell_type": "markdown",
      "source": [
        "\n",
        "\n",
        "---\n",
        "\n",
        "\n",
        "### Setting the environment ###\n",
        "\n",
        "\n",
        "---\n",
        "\n"
      ],
      "metadata": {
        "id": "mTxwazlUkodx"
      }
    },
    {
      "cell_type": "code",
      "source": [
        "# Install all the required libraries\n",
        "install.packages(c(\n",
        "  \"writexl\",\n",
        "  \"XML\",\n",
        "  \"rjson\",\n",
        "  \"DBI\",\n",
        "  \"RSQLite\",\n",
        "  \"factoextra\",\n",
        "  \"cluster\",\n",
        "  \"ggridges\"\n",
        "  \"GGally\")\n",
        ")"
      ],
      "metadata": {
        "id": "tazEb9UujT6v"
      },
      "execution_count": null,
      "outputs": []
    },
    {
      "cell_type": "code",
      "source": [
        "install.packages(\"ggridges\")"
      ],
      "metadata": {
        "id": "Cl6tQpnQZ-T9"
      },
      "execution_count": null,
      "outputs": []
    },
    {
      "cell_type": "code",
      "source": [
        "  library(\"tidyverse\")\n",
        "  library(\"readxl\")\n",
        "  library(\"writexl\")\n",
        "  library(\"xml2\")\n",
        "  library(\"XML\")\n",
        "  library(\"rjson\")\n",
        "  library(\"DBI\")\n",
        "  library(\"RSQLite\")\n",
        "  library(\"ggplot2\")\n",
        "  library(\"factoextra\")\n",
        "  library(\"cluster\")\n",
        "  library(\"GGally\")"
      ],
      "metadata": {
        "id": "i88yEuxoS5gd"
      },
      "execution_count": null,
      "outputs": []
    },
    {
      "cell_type": "markdown",
      "source": [
        "\n",
        "\n",
        "---\n",
        "\n",
        "### 1. Data formats ###\n",
        "- `data.frame` VS `tibble`\n",
        " * `data.frame` is a default tabular form\n",
        " * `tibble` (from `tidyverse` R package) is similar to `data.frame` but has additional handy features.\n",
        "\n",
        " - Structured data can be imported using `read.csv` (for *.csv files),  `read_excel` (for *.xlsx files), or `fread` functions, typically invoked through R packages (`base`, `readxl` and `data.table` packages, respectively).\n",
        "\n",
        "---\n",
        "\n"
      ],
      "metadata": {
        "id": "Ye11k0E-2QO6"
      }
    },
    {
      "cell_type": "code",
      "source": [
        "getwd()"
      ],
      "metadata": {
        "colab": {
          "base_uri": "https://localhost:8080/",
          "height": 34
        },
        "id": "mZupNEZ3S7Vo",
        "outputId": "9509245d-eaec-449e-9c29-764c83265fd2"
      },
      "execution_count": null,
      "outputs": [
        {
          "output_type": "display_data",
          "data": {
            "text/html": [
              "'/content'"
            ],
            "text/markdown": "'/content'",
            "text/latex": "'/content'",
            "text/plain": [
              "[1] \"/content\""
            ]
          },
          "metadata": {}
        }
      ]
    },
    {
      "cell_type": "code",
      "source": [
        "# Creating a data.frame\n",
        "df = data.frame(\n",
        "  \"group\" = c(\"A\", \"B\", \"B\", \"C\"),\n",
        "  \"value\" = c(10.2, 11.3, 10.3, 9.7)\n",
        ")\n",
        "df"
      ],
      "metadata": {
        "id": "YGG27VOHoXXC"
      },
      "execution_count": null,
      "outputs": []
    },
    {
      "cell_type": "code",
      "source": [
        "# Creating a tibble\n",
        "library(tidyverse)\n",
        "tbl = tibble(\n",
        "  \"group name\" = c(\"A\",\"B\",\"B\",\"C\"),\n",
        "  \"value\" = c(10.2,11.3,10.3,9.7)\n",
        ")\n",
        "tbl\n",
        "# coverting a data.frame to tibble\n",
        "df = as_tibble(df)\n",
        "df"
      ],
      "metadata": {
        "id": "xJkKsQOlo6Ss"
      },
      "execution_count": null,
      "outputs": []
    }
  ]
}